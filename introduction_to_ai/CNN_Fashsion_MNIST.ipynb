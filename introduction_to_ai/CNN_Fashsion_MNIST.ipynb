{
  "nbformat": 4,
  "nbformat_minor": 0,
  "metadata": {
    "accelerator": "GPU",
    "colab": {
      "name": "CNN_fashsion_MNIST(student_version).ipynb",
      "provenance": [],
      "collapsed_sections": []
    },
    "kernelspec": {
      "display_name": "Python 3",
      "language": "python",
      "name": "python3"
    },
    "language_info": {
      "codemirror_mode": {
        "name": "ipython",
        "version": 3
      },
      "file_extension": ".py",
      "mimetype": "text/x-python",
      "name": "python",
      "nbconvert_exporter": "python",
      "pygments_lexer": "ipython3",
      "version": "3.8.8"
    }
  },
  "cells": [
    {
      "cell_type": "markdown",
      "metadata": {
        "id": "3-0ZDInq9ARa"
      },
      "source": [
        "# **CNN model for the Fashion MNIST dataset**\n",
        "\n",
        "In the last notebook, you have implemented a neural network model for the Fashion MNIST dataset, what was your model's accuracy on the testing set? Do you think we can further improve it?\n",
        "\n",
        "\\\n",
        "In this notebook you will implement a Convolutional Neural Network (CNN) model to improve the prediction accuracy\n",
        "\n",
        "\\\n",
        "**Instruction: type your code when you see 'Type your code here' in comments**"
      ]
    },
    {
      "cell_type": "code",
      "metadata": {
        "colab": {
          "base_uri": "https://localhost:8080/"
        },
        "id": "9DiswJ1NHBbo",
        "outputId": "12bc4187-6163-44aa-b469-35acaaaeeae6"
      },
      "source": [
        "import tensorflow as tf\n",
        "print(\"Num GPUs Available: \", len(tf.config.list_physical_devices('GPU')))\n",
        "print('Tensorflow version:',tf.__version__)\n",
        "import numpy as np\n",
        "import pandas as pd\n",
        "\n",
        "from matplotlib import pyplot as plt\n",
        "plt.style.use('seaborn')\n",
        "\n",
        "import seaborn as sns\n",
        "from sklearn.model_selection import train_test_split\n",
        "\n",
        "import os\n",
        "print('Keras version:', tf.keras.__version__)"
      ],
      "execution_count": 2,
      "outputs": [
        {
          "output_type": "stream",
          "name": "stdout",
          "text": [
            "Num GPUs Available:  1\n",
            "Tensorflow version: 2.6.0\n",
            "Keras version: 2.6.0\n"
          ]
        }
      ]
    },
    {
      "cell_type": "markdown",
      "metadata": {
        "id": "Xnd6Fxh9gs1D"
      },
      "source": [
        "# Loading the fashion_mnist data set training set"
      ]
    },
    {
      "cell_type": "code",
      "metadata": {
        "id": "g5gUoWwWHWBU",
        "outputId": "483ea7f3-856d-4782-d071-dbb4de1df0e0",
        "colab": {
          "base_uri": "https://localhost:8080/"
        }
      },
      "source": [
        "(x_train, y_train), (x_test, y_test) = tf.keras.datasets.fashion_mnist.load_data()"
      ],
      "execution_count": 3,
      "outputs": [
        {
          "output_type": "stream",
          "name": "stdout",
          "text": [
            "Downloading data from https://storage.googleapis.com/tensorflow/tf-keras-datasets/train-labels-idx1-ubyte.gz\n",
            "32768/29515 [=================================] - 0s 0us/step\n",
            "40960/29515 [=========================================] - 0s 0us/step\n",
            "Downloading data from https://storage.googleapis.com/tensorflow/tf-keras-datasets/train-images-idx3-ubyte.gz\n",
            "26427392/26421880 [==============================] - 0s 0us/step\n",
            "26435584/26421880 [==============================] - 0s 0us/step\n",
            "Downloading data from https://storage.googleapis.com/tensorflow/tf-keras-datasets/t10k-labels-idx1-ubyte.gz\n",
            "16384/5148 [===============================================================================================] - 0s 0us/step\n",
            "Downloading data from https://storage.googleapis.com/tensorflow/tf-keras-datasets/t10k-images-idx3-ubyte.gz\n",
            "4423680/4422102 [==============================] - 0s 0us/step\n",
            "4431872/4422102 [==============================] - 0s 0us/step\n"
          ]
        }
      ]
    },
    {
      "cell_type": "code",
      "metadata": {
        "colab": {
          "base_uri": "https://localhost:8080/"
        },
        "id": "iFgSMzXpkwhN",
        "outputId": "5264e730-69d2-4194-8102-c55ef8460468"
      },
      "source": [
        "print(f'Shape of an image: {x_train[0].shape}')\n",
        "print(f'Max pixel value: {x_train.max()}')\n",
        "print(f'Min pixel value: {x_train.min()}')\n",
        "print(f'Classes: {np.unique(y_train)}')"
      ],
      "execution_count": 4,
      "outputs": [
        {
          "output_type": "stream",
          "name": "stdout",
          "text": [
            "Shape of an image: (28, 28)\n",
            "Max pixel value: 255\n",
            "Min pixel value: 0\n",
            "Classes: [0 1 2 3 4 5 6 7 8 9]\n"
          ]
        }
      ]
    },
    {
      "cell_type": "code",
      "metadata": {
        "id": "crQSkyUtiawn"
      },
      "source": [
        "# Creating a list of labels\n",
        "\n",
        "fashion_mnist_labels = [\"T-shirt/top\", \n",
        "                            \"Trouser\",\n",
        "                            \"Pullover\",\n",
        "                            \"Dress\",\n",
        "                            \"Coat\",\n",
        "                            \"Sandal\", \n",
        "                            \"Shirt\",\n",
        "                            \"Sneaker\",\n",
        "                            \"Bag\",\n",
        "                            \"Ankle boot\"]"
      ],
      "execution_count": 5,
      "outputs": []
    },
    {
      "cell_type": "markdown",
      "metadata": {
        "id": "ooZWvwRXkLdK"
      },
      "source": [
        "# Plotting some of the images\n",
        "\n"
      ]
    },
    {
      "cell_type": "code",
      "metadata": {
        "colab": {
          "base_uri": "https://localhost:8080/",
          "height": 487
        },
        "id": "x6JjaY2CifH_",
        "outputId": "3590aa3e-7b19-4b42-f83b-3cf63965afc8"
      },
      "source": [
        "figure = plt.figure(figsize=(20,8))\n",
        "\n",
        "indices = np.random.choice(np.arange(x_train.shape[0]), 15, replace=False)\n",
        "subset = x_train[indices]\n",
        "\n",
        "for i, image_sample in enumerate(subset):\n",
        "  ax = figure.add_subplot(3, 5, i + 1, xticks=[], yticks=[])\n",
        "  j = fashion_mnist_labels[y_train[indices[i]]] #image label\n",
        "  ax.set_title(j, fontsize=20)\n",
        "  ax.imshow(image_sample.reshape(28,28))\n",
        "  i+=1"
      ],
      "execution_count": 6,
      "outputs": [
        {
          "output_type": "display_data",
          "data": {
            "image/png": "[encoded data removed]",
            "text/plain": [
              "<Figure size 1440x576 with 15 Axes>"
            ]
          },
          "metadata": {}
        }
      ]
    },
    {
      "cell_type": "code",
      "metadata": {
        "colab": {
          "base_uri": "https://localhost:8080/",
          "height": 130
        },
        "id": "c-B6j1ZSIDue",
        "outputId": "6ecad13d-ad52-4ced-d946-59c2786b6a10"
      },
      "source": [
        "#Type your code here\n",
        "\n",
        "x_train =    #feature scaling (Hint:255 is the maximum pixel value)\n",
        "x_test =  \n",
        "\n",
        "num_classes =  #no. of classes\n",
        "\n",
        "train_one_hot =  #one hot encoding for the training set\n",
        "test_one_hot =   #one hot encdoing for the testing set\n",
        "\n",
        "print(y_train[0])\n",
        "print(train_one_hot[0])\n",
        "\n",
        "\n",
        "train_size = x_train.shape[0]\n",
        "test_size = x_test.shape[0]\n",
        "\n",
        "\n",
        "print(f'Max pixel value: {x_train.max()}')\n",
        "print(f'Min pixel value: {x_train.min()}')\n",
        "print(f'Train size: {train_size}, Test size: {test_size}')\n",
        "print(f'Train data shape: {x_train.shape}, Test data shape: {x_test.shape}')\n",
        "print(f'Train label shape: {train_one_hot.shape}, Test label shape: {test_one_hot.shape}')\n"
      ],
      "execution_count": 8,
      "outputs": [
        {
          "output_type": "error",
          "ename": "SyntaxError",
          "evalue": "ignored",
          "traceback": [
            "\u001b[0;36m  File \u001b[0;32m\"<ipython-input-8-b6b861b0044e>\"\u001b[0;36m, line \u001b[0;32m3\u001b[0m\n\u001b[0;31m    x_train =    #feature scaling (Hint:255 is the maximum pixel value)\u001b[0m\n\u001b[0m                                                                       ^\u001b[0m\n\u001b[0;31mSyntaxError\u001b[0m\u001b[0;31m:\u001b[0m invalid syntax\n"
          ]
        }
      ]
    },
    {
      "cell_type": "markdown",
      "metadata": {
        "id": "JlzNjl1dR8fR"
      },
      "source": [
        "# **Model training**"
      ]
    },
    {
      "cell_type": "markdown",
      "metadata": {
        "id": "7XNh7SZPHMku"
      },
      "source": [
        "## Task: In this section, we are going to define our CNN model\n",
        "\n",
        "***Implement a CNN according to the below figure, it consists of:***\n",
        "\n",
        "1.   **an input layer**\n",
        "> Shape = INPUT_SHAPE\n",
        "2.   **a CNN layer**\n",
        "> No. of filter = 2,\n",
        "> Kernel size = (3,3),\n",
        "> Strides = (1,1),\n",
        "> Padding = 'same',\n",
        "> Activation='relu'\n",
        "3.   **a pooling layer (try MaxPooling2D first, then AveragePooling2D to compare accuracy)**\n",
        "> Pool size = (2,2), Strides = (1,1)\n",
        "4.   **a flatten layer**\n",
        "5.   **a dense layer**\n",
        "> No. of hidden units = 100, Activation = 'relu'\n",
        "6.   **an output (dense) layer**\n",
        "> Activation = 'softmax'\n",
        "**Hint: Remember to specify the input shape in the first layer**\n",
        "\n"
      ]
    },
    {
      "cell_type": "markdown",
      "metadata": {
        "id": "aZTFSNPXp7Hi"
      },
      "source": [
        "![](https://drive.google.com/uc?export=view&id=1mZ33zg7PwfVNXF9ea-39fu_biV43FFYO)"
      ]
    },
    {
      "cell_type": "markdown",
      "metadata": {
        "id": "7W4NEByRD9O6"
      },
      "source": [
        "**Links to the documentation for your reference:**\n",
        "\n",
        "Input layer:\n",
        "https://www.tensorflow.org/api_docs/python/tf/keras/Input\n",
        "\n",
        "Convolutional layer:\n",
        "https://www.tensorflow.org/api_docs/python/tf/keras/layers/Conv2D\n",
        "\n",
        "Pooling layer:\n",
        "https://www.tensorflow.org/api_docs/python/tf/keras/layers/MaxPool2D\n",
        "\n",
        "\n",
        "Flatten layer:\n",
        "https://www.tensorflow.org/api_docs/python/tf/keras/layers/Flatten\n",
        "\n",
        "\n",
        "Dense layer:\n",
        "https://www.tensorflow.org/api_docs/python/tf/keras/layers/Dense\n",
        "\n",
        "\n",
        "\n",
        "\n",
        "\n"
      ]
    },
    {
      "cell_type": "code",
      "metadata": {
        "id": "1tEHDVcXu2Jy"
      },
      "source": [
        "#Type your code here\n",
        "\n",
        "# Reshaping the data\n",
        "INPUT_SHAPE =   #input shape for one image\n",
        "\n",
        "x_train = x_train.reshape([-1]+INPUT_SHAPE)\n",
        "x_test = x_test.reshape([-1]+INPUT_SHAPE)\n",
        "\n",
        "print(f'Train data shape: {x_train.shape}, Test data shape: {x_test.shape}')"
      ],
      "execution_count": null,
      "outputs": []
    },
    {
      "cell_type": "code",
      "metadata": {
        "colab": {
          "base_uri": "https://localhost:8080/",
          "height": 130
        },
        "id": "V4hyYM-MzlM-",
        "outputId": "63fbed9b-86d4-4113-abe5-0a2c06e70f2c"
      },
      "source": [
        "from tensorflow.keras.layers import *\n",
        "\n",
        "\n",
        "tf.keras.backend.clear_session()\n",
        "\n",
        "#Type your code here\n",
        "\n",
        "#Define and compile your model\n",
        "#=============================================\n",
        "\n",
        "\n",
        "\n",
        "\n",
        "\n",
        "model = \n",
        "\n",
        "optimizer = \n",
        "\n",
        "model.compile()\n",
        "\n",
        "\n",
        "#=============================================\n",
        "model.summary()"
      ],
      "execution_count": 9,
      "outputs": [
        {
          "output_type": "error",
          "ename": "SyntaxError",
          "evalue": "ignored",
          "traceback": [
            "\u001b[0;36m  File \u001b[0;32m\"<ipython-input-9-010232f98098>\"\u001b[0;36m, line \u001b[0;32m15\u001b[0m\n\u001b[0;31m    model =\u001b[0m\n\u001b[0m            ^\u001b[0m\n\u001b[0;31mSyntaxError\u001b[0m\u001b[0;31m:\u001b[0m invalid syntax\n"
          ]
        }
      ]
    },
    {
      "cell_type": "code",
      "metadata": {
        "id": "rzQTEtgptGBO"
      },
      "source": [
        "tf.keras.utils.plot_model(model, \"cnn_model.png\", show_shapes=True)"
      ],
      "execution_count": null,
      "outputs": []
    },
    {
      "cell_type": "markdown",
      "metadata": {
        "id": "5Op23J1EXXVC"
      },
      "source": [
        "## **Defining callback functions and training the model**"
      ]
    },
    {
      "cell_type": "code",
      "metadata": {
        "id": "XAejv__1pFmj",
        "scrolled": true
      },
      "source": [
        "\n",
        "from tensorflow.keras.callbacks import EarlyStopping\n",
        "\n",
        "#Type your code here\n",
        "batch_size = \n",
        "epochs = \n",
        "\n",
        "#Early Stopping callback function\n",
        "\n",
        "\n",
        "\n",
        "\n",
        "\n",
        "# Starting the training\n",
        "history =  #calling model.fit()\n",
        "\n",
        "\n"
      ],
      "execution_count": null,
      "outputs": []
    },
    {
      "cell_type": "markdown",
      "metadata": {
        "id": "t_S7_G5zEnGb"
      },
      "source": [
        "# **Plotting the learning curves**"
      ]
    },
    {
      "cell_type": "code",
      "metadata": {
        "id": "rBeVKlEmL0uo"
      },
      "source": [
        "res = pd.DataFrame(history.history)\n",
        "res[['loss','val_loss']].plot()"
      ],
      "execution_count": null,
      "outputs": []
    },
    {
      "cell_type": "code",
      "metadata": {
        "id": "EKDlmrFsm24T"
      },
      "source": [
        "res[['accuracy','val_accuracy']].plot()"
      ],
      "execution_count": null,
      "outputs": []
    },
    {
      "cell_type": "markdown",
      "metadata": {
        "id": "88aIDx-NmnK_"
      },
      "source": [
        "# **Model evaluation on test set**"
      ]
    },
    {
      "cell_type": "code",
      "metadata": {
        "id": "Roh6t94BlV_P"
      },
      "source": [
        "#Type your code here\n",
        "\n",
        "scores =    #calling model.evaluate()\n",
        "names = model.metrics_names\n",
        "\n",
        "for i in range(len(scores)):\n",
        "  print(f'{names[i]}: {scores[i]:.4f}')"
      ],
      "execution_count": null,
      "outputs": []
    },
    {
      "cell_type": "markdown",
      "metadata": {
        "id": "B9ljYYViFB8_"
      },
      "source": [
        "# **Making predictions and plotting the result**"
      ]
    },
    {
      "cell_type": "code",
      "metadata": {
        "id": "wYHL6w8u4XwQ"
      },
      "source": [
        "#Type your code here\n",
        "\n",
        "prediction =  #calling model.predict() here\n",
        "\n",
        "\n",
        "print(\n",
        "    f'sum: {np.sum(prediction, axis=1)}\\n'\n",
        "    f'predict index: {np.argmax(prediction, axis=1)}'\n",
        ")"
      ],
      "execution_count": null,
      "outputs": []
    },
    {
      "cell_type": "code",
      "metadata": {
        "id": "w2qA6thO8B3s"
      },
      "source": [
        "figure = plt.figure(figsize=(20,8))\n",
        "\n",
        "for i, index in enumerate(np.random.choice(x_test.shape[0], size=15, replace=False)):\n",
        "    ax = figure.add_subplot(3, 5, i + 1, xticks=[], yticks=[])\n",
        "   \n",
        "    ax.imshow(x_test[index].reshape(28,28), cmap='gray')\n",
        "    predict_index = np.argmax(prediction[index])\n",
        "    true_index = np.argmax(test_one_hot[index])\n",
        "   \n",
        "    ax.set_title(\"{} ({})\".format(fashion_mnist_labels[predict_index], \n",
        "                                  fashion_mnist_labels[true_index]),\n",
        "                                  color=(\"green\" if predict_index == true_index else \"red\"))"
      ],
      "execution_count": null,
      "outputs": []
    },
    {
      "cell_type": "code",
      "metadata": {
        "id": "6B_JPoqj1ThG"
      },
      "source": [
        ""
      ],
      "execution_count": null,
      "outputs": []
    },
    {
      "cell_type": "markdown",
      "metadata": {
        "id": "qt6g9pTPM7LI"
      },
      "source": [
        "Are you satisfied with this model? Can the model be further improved?"
      ]
    },
    {
      "cell_type": "code",
      "metadata": {
        "id": "VZMhs7PC4XwQ"
      },
      "source": [
        ""
      ],
      "execution_count": null,
      "outputs": []
    }
  ]
}